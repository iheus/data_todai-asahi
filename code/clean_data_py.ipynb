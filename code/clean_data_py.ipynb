{
 "cells": [
  {
   "cell_type": "markdown",
   "metadata": {
    "slideshow": {
     "slide_type": "slide"
    }
   },
   "source": [
    "## Code for making the Todai-Asahi dataset\n",
    "#### Data Management (Spring/Summer 2018) at OSIPP, Osaka U\n",
    "\n",
    "### Python version"
   ]
  },
  {
   "cell_type": "markdown",
   "metadata": {
    "slideshow": {
     "slide_type": "slide"
    }
   },
   "source": [
    "### Preamble"
   ]
  },
  {
   "cell_type": "markdown",
   "metadata": {
    "slideshow": {
     "slide_type": "subslide"
    }
   },
   "source": [
    "#### Check variables in the namespace"
   ]
  },
  {
   "cell_type": "code",
   "execution_count": null,
   "metadata": {
    "slideshow": {
     "slide_type": "-"
    }
   },
   "outputs": [],
   "source": [
    "%whos"
   ]
  },
  {
   "cell_type": "markdown",
   "metadata": {
    "slideshow": {
     "slide_type": "subslide"
    }
   },
   "source": [
    "#### Remove the variables (if you want)"
   ]
  },
  {
   "cell_type": "code",
   "execution_count": 33,
   "metadata": {},
   "outputs": [],
   "source": [
    "%reset\n",
    "# %reset_selective name # remove selected variables"
   ]
  },
  {
   "cell_type": "markdown",
   "metadata": {
    "slideshow": {
     "slide_type": "subslide"
    }
   },
   "source": [
    "#### Import modules and packages"
   ]
  },
  {
   "cell_type": "code",
   "execution_count": 34,
   "metadata": {
    "slideshow": {
     "slide_type": "-"
    }
   },
   "outputs": [],
   "source": [
    "import pandas as pd\n",
    "import numpy as np\n",
    "import os"
   ]
  },
  {
   "cell_type": "markdown",
   "metadata": {
    "slideshow": {
     "slide_type": "subslide"
    }
   },
   "source": [
    "#### Set other misc stuff"
   ]
  },
  {
   "cell_type": "code",
   "execution_count": 35,
   "metadata": {
    "slideshow": {
     "slide_type": "-"
    }
   },
   "outputs": [],
   "source": [
    "pd.options.display.max_rows = 200 # set the number of rows to display \n",
    "pd.options.display.max_columns = 100 # set the number of columns to display \n",
    "np.set_printoptions(threshold=np.nan) # set the elements to display for numpy arrays"
   ]
  },
  {
   "cell_type": "markdown",
   "metadata": {
    "slideshow": {
     "slide_type": "subslide"
    }
   },
   "source": [
    "#### Set the parent directory as a working directory\n",
    "- Alternatively, you can specify your local directory where you store input data."
   ]
  },
  {
   "cell_type": "code",
   "execution_count": 36,
   "metadata": {
    "slideshow": {
     "slide_type": "-"
    }
   },
   "outputs": [],
   "source": [
    "os.chdir(\"..\") #  os.chdir(\"path_to_your_directory\")"
   ]
  },
  {
   "cell_type": "markdown",
   "metadata": {
    "slideshow": {
     "slide_type": "slide"
    }
   },
   "source": [
    "### Import data"
   ]
  },
  {
   "cell_type": "code",
   "execution_count": 37,
   "metadata": {
    "slideshow": {
     "slide_type": "-"
    }
   },
   "outputs": [],
   "source": [
    "data2009 = pd.read_table('input/2009UTASP20150910.csv', sep=',', encoding='cp932') \n",
    "data2012 = pd.read_table('input/2012UTASP20150910.csv', sep=',', encoding='cp932') \n",
    "data2014 = pd.read_table('input/2014UTASP20150910.csv', sep=',', encoding='cp932') "
   ]
  },
  {
   "cell_type": "code",
   "execution_count": 38,
   "metadata": {},
   "outputs": [],
   "source": [
    "data2009.to_csv?"
   ]
  },
  {
   "cell_type": "markdown",
   "metadata": {
    "slideshow": {
     "slide_type": "slide"
    }
   },
   "source": [
    "### Check contents"
   ]
  },
  {
   "cell_type": "markdown",
   "metadata": {
    "slideshow": {
     "slide_type": "subslide"
    }
   },
   "source": [
    "#### Show info of all variables"
   ]
  },
  {
   "cell_type": "code",
   "execution_count": null,
   "metadata": {
    "slideshow": {
     "slide_type": "-"
    }
   },
   "outputs": [],
   "source": [
    "print(data2014.info(verbose=True, null_counts=True))\n",
    "#?data2014.info"
   ]
  },
  {
   "cell_type": "markdown",
   "metadata": {
    "slideshow": {
     "slide_type": "subslide"
    }
   },
   "source": [
    "#### Show a summary table"
   ]
  },
  {
   "cell_type": "code",
   "execution_count": null,
   "metadata": {
    "slideshow": {
     "slide_type": "-"
    }
   },
   "outputs": [],
   "source": [
    "print(data2014.describe)"
   ]
  },
  {
   "cell_type": "markdown",
   "metadata": {
    "slideshow": {
     "slide_type": "subslide"
    }
   },
   "source": [
    "#### Show first five rows"
   ]
  },
  {
   "cell_type": "code",
   "execution_count": null,
   "metadata": {
    "slideshow": {
     "slide_type": "-"
    }
   },
   "outputs": [],
   "source": [
    "print(data2014.head(5))"
   ]
  },
  {
   "cell_type": "code",
   "execution_count": null,
   "metadata": {
    "slideshow": {
     "slide_type": "-"
    }
   },
   "outputs": [],
   "source": [
    "print(data2014['NAME'].head(5)) # only names\n",
    "# print(data2014.loc[:5,'NAME']) # (using loc)"
   ]
  },
  {
   "cell_type": "markdown",
   "metadata": {
    "slideshow": {
     "slide_type": "subslide"
    }
   },
   "source": [
    "#### Check whether indices are unique"
   ]
  },
  {
   "cell_type": "code",
   "execution_count": 43,
   "metadata": {
    "slideshow": {
     "slide_type": "-"
    }
   },
   "outputs": [
    {
     "name": "stdout",
     "output_type": "stream",
     "text": [
      "True\n"
     ]
    }
   ],
   "source": [
    "print(data2014.index.unique().any())"
   ]
  },
  {
   "cell_type": "markdown",
   "metadata": {
    "slideshow": {
     "slide_type": "subslide"
    }
   },
   "source": [
    "#### Show unique values and the number of unique values"
   ]
  },
  {
   "cell_type": "code",
   "execution_count": null,
   "metadata": {
    "slideshow": {
     "slide_type": "-"
    }
   },
   "outputs": [],
   "source": [
    "print(data2014['NAME'].unique()) \n",
    "print(\"Unique obs. = \",len(data2014['NAME'].unique()))"
   ]
  },
  {
   "cell_type": "markdown",
   "metadata": {
    "slideshow": {
     "slide_type": "subslide"
    }
   },
   "source": [
    "#### Check missing values (NaN in numeric arrays, None/NaN in object arrays)"
   ]
  },
  {
   "cell_type": "code",
   "execution_count": null,
   "metadata": {
    "slideshow": {
     "slide_type": "-"
    }
   },
   "outputs": [],
   "source": [
    "print(data2014.isna().any()) \n",
    "# print(data2014.isnull().any()) "
   ]
  },
  {
   "cell_type": "code",
   "execution_count": null,
   "metadata": {
    "slideshow": {
     "slide_type": "-"
    }
   },
   "outputs": [],
   "source": [
    "q1_1_counts = data2014['Q1_1FA'].value_counts() # tabulate \"Q1_1\"\n",
    "print(q1_1_counts)"
   ]
  },
  {
   "cell_type": "code",
   "execution_count": null,
   "metadata": {
    "slideshow": {
     "slide_type": "-"
    }
   },
   "outputs": [],
   "source": [
    "q1_1_clean = data2014['Q1_1FA'].fillna('Missing') # tabulate \"Q1_1\" (including NaN as Missing)\n",
    "q1_1_counts = q1_1_clean.value_counts()\n",
    "print(q1_1_counts)"
   ]
  },
  {
   "cell_type": "markdown",
   "metadata": {
    "slideshow": {
     "slide_type": "subslide"
    }
   },
   "source": [
    "### Modify data"
   ]
  },
  {
   "cell_type": "markdown",
   "metadata": {
    "slideshow": {
     "slide_type": "subslide"
    }
   },
   "source": [
    "#### Redefine values for consistency"
   ]
  },
  {
   "cell_type": "code",
   "execution_count": 48,
   "metadata": {
    "slideshow": {
     "slide_type": "-"
    }
   },
   "outputs": [],
   "source": [
    "data2012['RESULT']=data2012['RESULT'].replace({3:4,2:3,1:2,0:1})\n",
    "data2014['RESULT']=data2014['RESULT'].replace({3:4,2:3,1:2,0:1})"
   ]
  },
  {
   "cell_type": "code",
   "execution_count": 49,
   "metadata": {
    "slideshow": {
     "slide_type": "subslide"
    }
   },
   "outputs": [],
   "source": [
    "data2009['PARTY'] = data2009['PARTY'].replace({\n",
    "    1:'自民党',2:'民主党',3:'公明党',4:'共産党',5:'社民党',\n",
    "    6:'国民新党',7:'みんなの党',8:'新党日本',9:'新党大地',10:'改革クラブ',\n",
    "    11:'諸派',12:'無所属'})\n",
    "data2012['PARTY'] = data2012['PARTY'].replace({\n",
    "    1:'民主党',2:'自民党',3:'未来の党',4:'公明党',5:'日本維新の会',\n",
    "    6:'共産党',7:'みんなの党',8:'社民党',9:'新党大地',10:'国民新党',\n",
    "    11:'新党日本',12:'新党改革',13:'諸派',14:'無所属'})\n",
    "data2014['PARTY'] = data2014['PARTY'].replace({\n",
    "    1:'自民党',2:'民主党',3:'維新の党',4:'公明党',5:'次世代の党',\n",
    "    6:'共産党',7:'生活の党',8:'社民党',9:'新党改革',10:'幸福実現党',\n",
    "    11:'支持政党なし',12:'諸派',13:'無所属'})"
   ]
  },
  {
   "cell_type": "markdown",
   "metadata": {
    "slideshow": {
     "slide_type": "slide"
    }
   },
   "source": [
    "### Make a panel dataset \n",
    "- If you want to merge 2009, 2012 and 2014 data, what things do you need to consider?\n",
    "       - Same variable name?\n",
    "       - Same survey question?\n",
    "       - Same meaning (e.g. party = 1 always LDP)?\n",
    "       - Which variable is the identifier (if there is any)?"
   ]
  },
  {
   "cell_type": "markdown",
   "metadata": {
    "slideshow": {
     "slide_type": "subslide"
    }
   },
   "source": [
    "#### 1. Rename and keep relevant variables, by election year"
   ]
  },
  {
   "cell_type": "code",
   "execution_count": 50,
   "metadata": {
    "slideshow": {
     "slide_type": "-"
    }
   },
   "outputs": [],
   "source": [
    "# keep attributes like name, age, etc.\n",
    "attr = ['ID','NAME','RESPONSE','PREFEC','DISTRICT','PRBLOCK','INCUMB','TERM','PARTY','SEX','AGE','RESULT']\n",
    "\n",
    "data2009_attr = data2009.filter(attr)\n",
    "data2012_attr = data2012.filter(attr)\n",
    "data2014_attr = data2014.filter(attr)"
   ]
  },
  {
   "cell_type": "code",
   "execution_count": 51,
   "metadata": {
    "slideshow": {
     "slide_type": "subslide"
    }
   },
   "outputs": [],
   "source": [
    "# keep consistent survey questions\n",
    "\n",
    "# rename columns\n",
    "data2009_rename = data2009.rename(columns = {\n",
    "    'Q4_1':'camp1', 'Q4_2':'camp2', 'Q4_3':'camp3',\n",
    "    'Q5_1':'coal_lib', 'Q5_2':'coal_dem', 'Q5_3':'coal_kmei', 'Q5_4':'coal_com', 'Q5_5':'coal_soc', 'Q5_6':'coal_koku',\n",
    "    'Q8_1':'yn_medconst', 'Q8_4':'yn_reps',\n",
    "    'Q9_1':'yn_const', 'Q9_2':'yn_defense', 'Q9_4':'yn_preemp', 'Q9_5':'yn_unsc', 'Q9_6':'yn_nkorea', 'Q9_9':'yn_smgov', 'Q9_11':'yn_pubspend', 'Q9_12':'yn_fiscalpol', 'Q9_14':'yn_tax5yrs', 'Q9_16':'yn_frgnvote', 'Q9_17':'yn_frgnwork', 'Q9_18':'yn_privacy',\n",
    "    'Q10_1':'ab_env', 'Q10_7':'ab_singlemum', 'Q10_9':'ab_trade',\n",
    "    'Q11_6':'fav_masuzoe', 'Q11_9':'fav_ozawa', 'Q11_12':'fav_watanabe', 'Q11_13':'fav_hashimoto'})\n",
    "\n",
    "data2012_rename = data2012.rename(columns = {\n",
    "    'Q1_1':'prim1', 'Q1_2':'prim2', 'Q1_3':'prim3',\n",
    "    'Q2_1':'camp1', 'Q2_2':'camp2', 'Q2_3':'camp3',\n",
    "    'Q4_1':'coal_dem', 'Q4_2':'coal_lib', 'Q4_4':'coal_kmei', 'Q4_5':'coal_com', 'Q4_7':'coal_soc', 'Q4_9':'coal_koku',\n",
    "    'Q5_1':'yn_const', 'Q5_2':'yn_defense', 'Q5_3':'yn_preemp', 'Q5_4':'yn_unsc', 'Q5_5':'yn_nkorea', 'Q5_7':'yn_smgov', 'Q5_8':'yn_pubspend', 'Q5_9':'yn_fiscalpol', 'Q5_10':'yn_tax5yrs', 'Q5_11':'yn_tax10pc', 'Q5_15':'yn_privacy', 'Q5_16':'yn_frgnvote', 'Q5_17':'yn_frgnwork', 'Q5_18':'yn_moral', 'Q5_21':'yn_reps', 'Q5_25':'yn_medconst',\n",
    "    'Q6_1':'ab_asiaus', 'Q6_2':'ab_compet', 'Q6_3':'ab_trade', 'Q6_4':'ab_env', 'Q6_5':'ab_singlemum',\n",
    "    'Q10_3':'fav_ozawa', 'Q10_6':'fav_watanabe', 'Q10_8':'fav_hashimoto', 'Q10_16':'fav_masuzoe',\n",
    "    'Q11_1':'media_hp', 'Q11_3':'media_sns', 'Q11_4':'media_tv'})\n",
    "\n",
    "data2014_rename = data2014.rename(columns = {\n",
    "    'Q1_1':'prim1', 'Q1_2':'prim2', 'Q1_3':'prim3',\n",
    "    'Q2_1':'camp1', 'Q2_2':'camp2', 'Q2_3':'camp3',\n",
    "    'Q6_1':'yn_defense', 'Q6_2':'yn_preemp', 'Q6_3':'yn_nkorea', 'Q6_5':'yn_smgov', 'Q6_6':'yn_pubspend', 'Q6_7':'yn_fiscalpol', 'Q6_8':'yn_tax10pc', 'Q6_11':'yn_privacy', 'Q6_12':'yn_frgnvote', 'Q6_13':'yn_frgnwork', 'Q6_14':'yn_moral',\n",
    "    'Q7_1':'ab_asiaus', 'Q7_2':'ab_compet', 'Q7_3':'ab_trade', 'Q7_4':'ab_env', 'Q7_5':'ab_singlemum',\n",
    "    'Q14_1':'media_hp', 'Q14_2':'media_sns', 'Q14_3':'media_tv'})\n",
    "\n",
    "# keep columns\n",
    "data2009_subset = data2009_rename.loc[:,data2009_rename.columns.str.contains('camp|coal_|yn_|ab_|fav_')]\n",
    "data2012_subset = data2012_rename.loc[:,data2012_rename.columns.str.contains('prim|camp|coal_|yn_|ab_|fav_|media_')]\n",
    "data2014_subset = data2014_rename.loc[:,data2014_rename.columns.str.contains('prim|camp|yn_|ab_|media_')]"
   ]
  },
  {
   "cell_type": "code",
   "execution_count": 52,
   "metadata": {
    "slideshow": {
     "slide_type": "-"
    }
   },
   "outputs": [],
   "source": [
    "# append datasets by row\n",
    "data2009_use = pd.concat([data2009_attr,data2009_subset],axis=1)\n",
    "data2012_use = pd.concat([data2012_attr,data2012_subset],axis=1)\n",
    "data2014_use = pd.concat([data2014_attr,data2014_subset],axis=1)"
   ]
  },
  {
   "cell_type": "code",
   "execution_count": 53,
   "metadata": {
    "slideshow": {
     "slide_type": "-"
    }
   },
   "outputs": [],
   "source": [
    "# add election year\n",
    "data2009_use['ELECYEAR'] = '2009'\n",
    "data2012_use['ELECYEAR'] = '2012'\n",
    "data2014_use['ELECYEAR'] = '2014'"
   ]
  },
  {
   "cell_type": "markdown",
   "metadata": {
    "slideshow": {
     "slide_type": "subslide"
    }
   },
   "source": [
    "#### 2. Append all years"
   ]
  },
  {
   "cell_type": "code",
   "execution_count": 57,
   "metadata": {
    "scrolled": true,
    "slideshow": {
     "slide_type": "-"
    }
   },
   "outputs": [
    {
     "name": "stdout",
     "output_type": "stream",
     "text": [
      "False\n",
      "uid         False\n",
      "ELECYEAR    False\n",
      "dtype: bool\n"
     ]
    }
   ],
   "source": [
    "data = pd.concat([data2009_use, data2012_use, data2014_use],sort=False)\n",
    "\n",
    "# remove irrelevant spaces from names\n",
    "data['NAME'] = data['NAME'].astype(str).apply(lambda x: x.strip()) \n",
    "#data['NAME'] = data['NAME'].str.replace('\\s+', '') \n",
    "\n",
    "# change a duplicated name\n",
    "data.loc[(data['NAME'] == '金子＝恵美') & (data['ELECYEAR'] == '2014') & (data['PARTY'] == '民主党'),'NAME'] = '金子＝恵美２'\n",
    "\n",
    "# make an id using the names\n",
    "data['uid'] = data['NAME'].astype('category') # convert\n",
    "data['uid'] = data['uid'].cat.codes\n",
    "\n",
    "# reorder columns\n",
    "data = data[[\n",
    "'uid',\n",
    "'ELECYEAR',\n",
    "'ID',\n",
    "'NAME',\n",
    "'RESPONSE',\n",
    "'PREFEC',\n",
    "'DISTRICT',\n",
    "'PRBLOCK',\n",
    "'INCUMB',\n",
    "'TERM',\n",
    "'PARTY',\n",
    "'SEX',\n",
    "'AGE',\n",
    "'RESULT',\n",
    "'prim1',\n",
    "'prim2',\n",
    "'prim3',\n",
    "'camp1',\n",
    "'camp2',\n",
    "'camp3',\n",
    "'coal_lib',\n",
    "'coal_dem',\n",
    "'coal_kmei',\n",
    "'coal_com',\n",
    "'coal_soc',\n",
    "'coal_koku',\n",
    "'yn_medconst',\n",
    "'yn_reps',\n",
    "'yn_const',\n",
    "'yn_defense',\n",
    "'yn_preemp',\n",
    "'yn_unsc',\n",
    "'yn_nkorea',\n",
    "'yn_smgov',\n",
    "'yn_pubspend',\n",
    "'yn_fiscalpol',\n",
    "'yn_tax5yrs',\n",
    "'yn_frgnvote',\n",
    "'yn_frgnwork',\n",
    "'yn_privacy',\n",
    "'yn_tax10pc',\n",
    "'yn_moral',\n",
    "'ab_asiaus',\n",
    "'ab_compet',    \n",
    "'ab_env',\n",
    "'ab_singlemum',\n",
    "'ab_trade',\n",
    "'fav_masuzoe',\n",
    "'fav_ozawa',\n",
    "'fav_watanabe',\n",
    "'fav_hashimoto',\n",
    "'media_hp',\n",
    "'media_sns',\n",
    "'media_tv']]\n",
    "\n",
    "# check whether uid and ELECYEAR are unique and not missing\n",
    "print(data.duplicated(['uid','ELECYEAR']).any()) \n",
    "print(data[['uid','ELECYEAR']].isna().any()) "
   ]
  },
  {
   "cell_type": "markdown",
   "metadata": {
    "slideshow": {
     "slide_type": "subslide"
    }
   },
   "source": [
    "#### 3. Save"
   ]
  },
  {
   "cell_type": "code",
   "execution_count": 58,
   "metadata": {
    "slideshow": {
     "slide_type": "-"
    }
   },
   "outputs": [],
   "source": [
    "data.to_csv(\"output/syuuin_2009_2014_py.csv\",index=False)"
   ]
  }
 ],
 "metadata": {
  "celltoolbar": "Slideshow",
  "kernelspec": {
   "display_name": "Python 3",
   "language": "python",
   "name": "python3"
  },
  "language_info": {
   "codemirror_mode": {
    "name": "ipython",
    "version": 3
   },
   "file_extension": ".py",
   "mimetype": "text/x-python",
   "name": "python",
   "nbconvert_exporter": "python",
   "pygments_lexer": "ipython3",
   "version": "3.6.5"
  }
 },
 "nbformat": 4,
 "nbformat_minor": 2
}
