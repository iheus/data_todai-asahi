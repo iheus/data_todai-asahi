{
 "cells": [
  {
   "cell_type": "markdown",
   "metadata": {
    "slideshow": {
     "slide_type": "slide"
    }
   },
   "source": [
    "## Code for making the Todai-Asahi dataset\n",
    "#### Data Management (Spring/Summer 2018) at OSIPP, Osaka U\n",
    "\n",
    "### R version"
   ]
  },
  {
   "cell_type": "markdown",
   "metadata": {
    "slideshow": {
     "slide_type": "slide"
    }
   },
   "source": [
    "### Preamble"
   ]
  },
  {
   "cell_type": "markdown",
   "metadata": {
    "slideshow": {
     "slide_type": "subslide"
    }
   },
   "source": [
    "#### Check variables in the workspace"
   ]
  },
  {
   "cell_type": "code",
   "execution_count": null,
   "metadata": {
    "slideshow": {
     "slide_type": "-"
    }
   },
   "outputs": [],
   "source": [
    "print(ls())"
   ]
  },
  {
   "cell_type": "markdown",
   "metadata": {
    "slideshow": {
     "slide_type": "subslide"
    }
   },
   "source": [
    "#### Remove the variables (if you want)"
   ]
  },
  {
   "cell_type": "code",
   "execution_count": 92,
   "metadata": {
    "slideshow": {
     "slide_type": "-"
    }
   },
   "outputs": [],
   "source": [
    "rm(list = ls())"
   ]
  },
  {
   "cell_type": "markdown",
   "metadata": {},
   "source": [
    "#### Import packages"
   ]
  },
  {
   "cell_type": "code",
   "execution_count": 93,
   "metadata": {},
   "outputs": [],
   "source": [
    "library(data.table) # install.packages(\"data.table\",repos='http://cran.us.r-project.org')\n",
    "library(plyr)"
   ]
  },
  {
   "cell_type": "markdown",
   "metadata": {
    "slideshow": {
     "slide_type": "subslide"
    }
   },
   "source": [
    "####  Set the parent directory as a working directory\n",
    "- Alternatively, you can specify your local directory where you store input data."
   ]
  },
  {
   "cell_type": "code",
   "execution_count": 94,
   "metadata": {
    "slideshow": {
     "slide_type": "-"
    }
   },
   "outputs": [],
   "source": [
    "#setwd(\"..\")\n",
    "setwd(\"C:/Users/shu/Desktop/local_data_todai-asahi\") # setwd(\"path_to_your_directory\")"
   ]
  },
  {
   "cell_type": "markdown",
   "metadata": {
    "slideshow": {
     "slide_type": "slide"
    }
   },
   "source": [
    "### Import data\n",
    "- If your data are very big, use `fread()` instead of `read.table()`."
   ]
  },
  {
   "cell_type": "code",
   "execution_count": 95,
   "metadata": {
    "slideshow": {
     "slide_type": "-"
    }
   },
   "outputs": [],
   "source": [
    "data2009 <- read.table('input/2009UTASP20150910.csv',header=TRUE, sep=',',na.strings=c(\"\",\".\",\"NA\"),stringsAsFactors=FALSE) \n",
    "data2012 <- read.table('input/2012UTASP20150910.csv',header=TRUE, sep=',',na.strings=c(\"\",\".\",\"NA\"),stringsAsFactors=FALSE) \n",
    "data2014 <- read.table('input/2014UTASP20150910.csv',header=TRUE, sep=',',na.strings=c(\"\",\".\",\"NA\"),stringsAsFactors=FALSE) \n",
    "#data2009 <- fread('input/2009UTASP20150910.csv',na.strings=c(\"\",\".\",\"NA\"))\n",
    "#data2012 <- fread('input/2012UTASP20150910.csv',na.strings=c(\"\",\".\",\"NA\")) \n",
    "#data2014 <- fread('input/2014UTASP20150910.csv',na.strings=c(\"\",\".\",\"NA\"))"
   ]
  },
  {
   "cell_type": "code",
   "execution_count": 96,
   "metadata": {
    "slideshow": {
     "slide_type": "subslide"
    }
   },
   "outputs": [],
   "source": [
    "help(read.table)"
   ]
  },
  {
   "cell_type": "markdown",
   "metadata": {
    "slideshow": {
     "slide_type": "slide"
    }
   },
   "source": [
    "### Check contents"
   ]
  },
  {
   "cell_type": "markdown",
   "metadata": {
    "slideshow": {
     "slide_type": "subslide"
    }
   },
   "source": [
    "#### Show info of all variables"
   ]
  },
  {
   "cell_type": "code",
   "execution_count": null,
   "metadata": {
    "slideshow": {
     "slide_type": "-"
    }
   },
   "outputs": [],
   "source": [
    "print(str(data2014))"
   ]
  },
  {
   "cell_type": "markdown",
   "metadata": {
    "slideshow": {
     "slide_type": "subslide"
    }
   },
   "source": [
    "#### Show a summary table"
   ]
  },
  {
   "cell_type": "code",
   "execution_count": null,
   "metadata": {
    "slideshow": {
     "slide_type": "-"
    }
   },
   "outputs": [],
   "source": [
    "print(summary(data2014))"
   ]
  },
  {
   "cell_type": "markdown",
   "metadata": {
    "slideshow": {
     "slide_type": "subslide"
    }
   },
   "source": [
    "#### Show first five rows"
   ]
  },
  {
   "cell_type": "code",
   "execution_count": null,
   "metadata": {
    "slideshow": {
     "slide_type": "-"
    }
   },
   "outputs": [],
   "source": [
    "print(head(data2014,n=5))\n",
    "# print(data2014) # If you have used fread to import data, the code automatically show first and last five rows"
   ]
  },
  {
   "cell_type": "code",
   "execution_count": null,
   "metadata": {
    "slideshow": {
     "slide_type": "-"
    }
   },
   "outputs": [],
   "source": [
    "print(head(data2014['NAME'],n=5)) # only names\n",
    "# print(data2014[,'NAME'])  # If you have used fread to import data, the code automatically show first and last five rows"
   ]
  },
  {
   "cell_type": "markdown",
   "metadata": {
    "slideshow": {
     "slide_type": "subslide"
    }
   },
   "source": [
    "#### Check whether the index is unique"
   ]
  },
  {
   "cell_type": "code",
   "execution_count": 101,
   "metadata": {
    "slideshow": {
     "slide_type": "-"
    }
   },
   "outputs": [
    {
     "name": "stdout",
     "output_type": "stream",
     "text": [
      "[1] 0\n"
     ]
    }
   ],
   "source": [
    "print(sum(duplicated(rownames(data2014))))"
   ]
  },
  {
   "cell_type": "markdown",
   "metadata": {
    "slideshow": {
     "slide_type": "subslide"
    }
   },
   "source": [
    "#### Show unique values and the total number of unique values"
   ]
  },
  {
   "cell_type": "code",
   "execution_count": null,
   "metadata": {
    "slideshow": {
     "slide_type": "-"
    }
   },
   "outputs": [],
   "source": [
    "print(unique(data2014[,'NAME']))\n",
    "print(paste(\"Unique obs. = \",length(unique(data2014[,'NAME'])))) \n",
    "#print(paste(\"Unique obs. = \",nrow(unique(data2014[,'NAME'])))) # If you use fread"
   ]
  },
  {
   "cell_type": "markdown",
   "metadata": {
    "slideshow": {
     "slide_type": "subslide"
    }
   },
   "source": [
    "#### Check NA, NaN, and infinity."
   ]
  },
  {
   "cell_type": "code",
   "execution_count": null,
   "metadata": {
    "slideshow": {
     "slide_type": "-"
    }
   },
   "outputs": [],
   "source": [
    "print(apply(is.na(data2014),2,sum)) # total number of NA by column\n",
    "print(apply(is.nan(as.matrix(data2014)),2,sum)) # total number of NaN by column\n",
    "print(apply(is.infinite(as.matrix(data2014)),2,sum)) # total number of inf or -inf by column"
   ]
  },
  {
   "cell_type": "code",
   "execution_count": null,
   "metadata": {
    "slideshow": {
     "slide_type": "-"
    }
   },
   "outputs": [],
   "source": [
    "q1_1_counts <- count(data2014, 'Q1_1FA') # tabulate Q1_1FA including NaN\n",
    "print(q1_1_counts)"
   ]
  },
  {
   "cell_type": "markdown",
   "metadata": {
    "slideshow": {
     "slide_type": "subslide"
    }
   },
   "source": [
    "### Modify data"
   ]
  },
  {
   "cell_type": "markdown",
   "metadata": {
    "slideshow": {
     "slide_type": "subslide"
    }
   },
   "source": [
    "#### Redefine values for consistency"
   ]
  },
  {
   "cell_type": "code",
   "execution_count": 105,
   "metadata": {
    "slideshow": {
     "slide_type": "-"
    }
   },
   "outputs": [],
   "source": [
    "data2012['RESULT'] <- mapvalues(unlist(data2012['RESULT']),from=c(3,2,1,0),to=c(4,3,2,1))\n",
    "data2014['RESULT'] <- mapvalues(unlist(data2014['RESULT']),from=c(3,2,1,0),to=c(4,3,2,1))"
   ]
  },
  {
   "cell_type": "code",
   "execution_count": 106,
   "metadata": {
    "slideshow": {
     "slide_type": "subslide"
    }
   },
   "outputs": [],
   "source": [
    "data2009['PARTY'] = mapvalues(unlist(data2009['PARTY']),from=1:12,to=c('自民党','民主党','公明党','共産党','社民党','国民新党','みんなの党','新党日本','新党大地','改革クラブ','諸派','無所属'))\n",
    "data2012['PARTY'] = mapvalues(unlist(data2012['PARTY']),from=1:14,to=c('民主党','自民党','未来の党','公明党','日本維新の会','共産党','みんなの党','社民党','新党大地','国民新党','新党日本','新党改革','諸派','無所属'))\n",
    "data2014['PARTY'] = mapvalues(unlist(data2014['PARTY']),from=1:13,to=c('自民党','民主党','維新の党','公明党','次世代の党','共産党','生活の党','社民党','新党改革','幸福実現党','支持政党なし','諸派','無所属'))"
   ]
  },
  {
   "cell_type": "markdown",
   "metadata": {
    "slideshow": {
     "slide_type": "subslide"
    }
   },
   "source": [
    "### Make a panel dataset\n",
    "- If you want to merge 2009, 2012 and 2014 data, what things do you need to consider?\n",
    "       - Same variable name?\n",
    "       - Same survey question?\n",
    "       - Same meaning (e.g. party = 1 always LDP)?\n",
    "       - Which variable is the identifier (if there is any)?"
   ]
  },
  {
   "cell_type": "markdown",
   "metadata": {},
   "source": [
    "#### 1. Rename and keep relevant variables, by election year"
   ]
  },
  {
   "cell_type": "code",
   "execution_count": 107,
   "metadata": {
    "slideshow": {
     "slide_type": "-"
    }
   },
   "outputs": [],
   "source": [
    "# keep attributes like name, age, etc.\n",
    "attr <- c('ID','NAME','RESPONSE','PREFEC','DISTRICT','PRBLOCK','INCUMB','TERM','PARTY','SEX','AGE','RESULT')\n",
    "\n",
    "data2009_attr <- subset(data2009,select=attr)\n",
    "data2012_attr <- subset(data2012,select=attr)\n",
    "data2014_attr <- subset(data2014,select=attr)"
   ]
  },
  {
   "cell_type": "code",
   "execution_count": 108,
   "metadata": {
    "slideshow": {
     "slide_type": "-"
    }
   },
   "outputs": [],
   "source": [
    "# keep consistent survey questions\n",
    "\n",
    "# rename columns \n",
    "setnames(data2009,c(\n",
    "    'Q4_1','Q4_2','Q4_3',\n",
    "    'Q5_1','Q5_2','Q5_3','Q5_4','Q5_5','Q5_6',\n",
    "    'Q8_1','Q8_4',\n",
    "    'Q9_1','Q9_2','Q9_4','Q9_5','Q9_6','Q9_9','Q9_11','Q9_12','Q9_14','Q9_16','Q9_17','Q9_18',\n",
    "    'Q10_1','Q10_7','Q10_9',\n",
    "    'Q11_6','Q11_9','Q11_12','Q11_13'), c(\n",
    "    'camp1','camp2','camp3',\n",
    "    'coal_lib','coal_dem','coal_kmei','coal_com','coal_soc','coal_koku',\n",
    "    'yn_medconst','yn_reps','yn_const','yn_defense','yn_preemp','yn_unsc','yn_nkorea','yn_smgov','yn_pubspend','yn_fiscalpol','yn_tax5yrs','yn_frgnvote','yn_frgnwork','yn_privacy',\n",
    "    'ab_env','ab_singlemum','ab_trade',\n",
    "    'fav_masuzoe','fav_ozawa','fav_watanabe','fav_hashimoto'))\n",
    "\n",
    "setnames(data2012,c(\n",
    "    'Q1_1','Q1_2','Q1_3',\n",
    "    'Q2_1','Q2_2','Q2_3',\n",
    "    'Q4_1','Q4_2','Q4_4','Q4_5','Q4_7','Q4_9',\n",
    "    'Q5_1','Q5_2','Q5_3','Q5_4','Q5_5','Q5_7','Q5_8','Q5_9','Q5_10','Q5_11','Q5_15','Q5_16','Q5_17','Q5_18','Q5_21','Q5_25',\n",
    "    'Q6_1','Q6_2','Q6_3','Q6_4','Q6_5',\n",
    "    'Q10_3','Q10_6','Q10_8','Q10_16',\n",
    "    'Q11_1','Q11_3','Q11_4'), c(\n",
    "    'prim1','prim2','prim3',\n",
    "    'camp1','camp2','camp3',\n",
    "    'coal_dem','coal_lib','coal_kmei','coal_com','coal_soc','coal_koku',\n",
    "    'yn_const','yn_defense','yn_preemp','yn_unsc','yn_nkorea','yn_smgov','yn_pubspend','yn_fiscalpol','yn_tax5yrs','yn_tax10pc','yn_privacy','yn_frgnvote','yn_frgnwork','yn_moral','yn_reps','yn_medconst',\n",
    "    'ab_asiaus','ab_compet','ab_trade','ab_env','ab_singlemum',\n",
    "    'fav_ozawa','fav_watanabe','fav_hashimoto','fav_masuzoe',\n",
    "    'media_hp','media_sns','media_tv'))\n",
    "                                  \n",
    "setnames(data2014,c(\n",
    "    'Q1_1','Q1_2','Q1_3',\n",
    "    'Q2_1','Q2_2','Q2_3',\n",
    "    'Q6_1','Q6_2','Q6_3','Q6_5','Q6_6','Q6_7','Q6_8','Q6_11','Q6_12','Q6_13','Q6_14',\n",
    "    'Q7_1','Q7_2','Q7_3','Q7_4','Q7_5',\n",
    "    'Q14_1','Q14_2','Q14_3'), c(\n",
    "    'prim1','prim2','prim3',\n",
    "    'camp1','camp2','camp3',\n",
    "    'yn_defense','yn_preemp','yn_nkorea','yn_smgov','yn_pubspend','yn_fiscalpol','yn_tax10pc','yn_privacy','yn_frgnvote','yn_frgnwork','yn_moral',\n",
    "    'ab_asiaus','ab_compet','ab_trade','ab_env','ab_singlemum',\n",
    "    'media_hp','media_sns','media_tv'))                                  \n",
    "    \n",
    "# keep columns\n",
    "data2009_subset <- subset(data2009,select=grepl(\"camp|coal_|yn_|ab_|fav_\",names(data2009)))\n",
    "data2012_subset <- subset(data2012,select=grepl(\"prim|camp|coal_|yn_|ab_|fav_|media_\",names(data2012)))\n",
    "data2014_subset <- subset(data2014,select=grepl(\"prim|camp|yn_|ab_|media_\",names(data2014)))"
   ]
  },
  {
   "cell_type": "code",
   "execution_count": 109,
   "metadata": {
    "slideshow": {
     "slide_type": "-"
    }
   },
   "outputs": [],
   "source": [
    "# append datasets by row\n",
    "data2009_use <- cbind(data2009_attr,data2009_subset)\n",
    "data2012_use <- cbind(data2012_attr,data2012_subset)\n",
    "data2014_use <- cbind(data2014_attr,data2014_subset)"
   ]
  },
  {
   "cell_type": "code",
   "execution_count": 110,
   "metadata": {
    "slideshow": {
     "slide_type": "-"
    }
   },
   "outputs": [],
   "source": [
    "# add election year\n",
    "data2009_use$ELECYEAR <- '2009'\n",
    "data2012_use$ELECYEAR <- '2012'\n",
    "data2014_use$ELECYEAR <- '2014'"
   ]
  },
  {
   "cell_type": "markdown",
   "metadata": {
    "slideshow": {
     "slide_type": "subslide"
    }
   },
   "source": [
    "#### 2. Append all years"
   ]
  },
  {
   "cell_type": "code",
   "execution_count": 113,
   "metadata": {
    "slideshow": {
     "slide_type": "-"
    }
   },
   "outputs": [
    {
     "name": "stdout",
     "output_type": "stream",
     "text": [
      "[1] 0\n",
      "[1] 0\n"
     ]
    }
   ],
   "source": [
    "# append datasets by row\n",
    "data <- rbind.fill(data2009_use,data2012_use,data2014_use)\n",
    "\n",
    "# change a duplicated name\n",
    "data[(data['NAME'] == '金子＝恵美') & (data['ELECYEAR'] == '2014') & (data['PARTY'] == '民主党'),'NAME'] <- '金子＝恵美２'\n",
    "\n",
    "# add index (name and prefecture)\n",
    "data$uid <- as.numeric(as.factor(data$NAME))\n",
    "\n",
    "# reorder columns\n",
    "data = data[,c(\n",
    "'uid',\n",
    "'ELECYEAR',\n",
    "'ID',\n",
    "'NAME',\n",
    "'RESPONSE',\n",
    "'PREFEC',\n",
    "'DISTRICT',\n",
    "'PRBLOCK',\n",
    "'INCUMB',\n",
    "'TERM',\n",
    "'PARTY',\n",
    "'SEX',\n",
    "'AGE',\n",
    "'RESULT',\n",
    "'prim1',\n",
    "'prim2',\n",
    "'prim3',\n",
    "'camp1',\n",
    "'camp2',\n",
    "'camp3',\n",
    "'coal_lib',\n",
    "'coal_dem',\n",
    "'coal_kmei',\n",
    "'coal_com',\n",
    "'coal_soc',\n",
    "'coal_koku',\n",
    "'yn_medconst',\n",
    "'yn_reps',\n",
    "'yn_const',\n",
    "'yn_defense',\n",
    "'yn_preemp',\n",
    "'yn_unsc',\n",
    "'yn_nkorea',\n",
    "'yn_smgov',\n",
    "'yn_pubspend',\n",
    "'yn_fiscalpol',\n",
    "'yn_tax5yrs',\n",
    "'yn_frgnvote',\n",
    "'yn_frgnwork',\n",
    "'yn_privacy',\n",
    "'yn_tax10pc',\n",
    "'yn_moral',\n",
    "'ab_asiaus',\n",
    "'ab_compet',    \n",
    "'ab_env',\n",
    "'ab_singlemum',\n",
    "'ab_trade',\n",
    "'fav_masuzoe',\n",
    "'fav_ozawa',\n",
    "'fav_watanabe',\n",
    "'fav_hashimoto',\n",
    "'media_hp',\n",
    "'media_sns',\n",
    "'media_tv')]\n",
    "\n",
    "# check whether uid and ELECYEAR are unique and not missing\n",
    "print(sum((duplicated(data[,c('uid','ELECYEAR')]))))\n",
    "print(sum(is.na(data[,c('uid','ELECYEAR')])))"
   ]
  },
  {
   "cell_type": "markdown",
   "metadata": {
    "slideshow": {
     "slide_type": "subslide"
    }
   },
   "source": [
    "#### 3. Save data"
   ]
  },
  {
   "cell_type": "code",
   "execution_count": 115,
   "metadata": {
    "slideshow": {
     "slide_type": "-"
    }
   },
   "outputs": [],
   "source": [
    "fwrite(data,\"output/syuuin_2009_2014_R.csv\")"
   ]
  }
 ],
 "metadata": {
  "celltoolbar": "Slideshow",
  "kernelspec": {
   "display_name": "R",
   "language": "R",
   "name": "ir"
  },
  "language_info": {
   "codemirror_mode": "r",
   "file_extension": ".r",
   "mimetype": "text/x-r-source",
   "name": "R",
   "pygments_lexer": "r",
   "version": "3.4.4"
  }
 },
 "nbformat": 4,
 "nbformat_minor": 2
}
